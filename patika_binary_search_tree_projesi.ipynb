{
 "cells": [
  {
   "cell_type": "markdown",
   "id": "05353763-9154-45a3-ba6a-5d21396a32a4",
   "metadata": {},
   "source": [
    "# Proje 3"
   ]
  },
  {
   "cell_type": "markdown",
   "id": "96810085-8480-4803-a11d-cd0aa623dcc3",
   "metadata": {},
   "source": [
    "[7, 5, 1, 8, 3, 6, 0, 9, 4, 2] dizisinin Binary-Search-Tree aşamalarını yazınız."
   ]
  },
  {
   "cell_type": "markdown",
   "id": "7a8b3d23-a7d7-4e6e-8770-b9ed29500f1c",
   "metadata": {},
   "source": [
    "# Cevap"
   ]
  },
  {
   "cell_type": "markdown",
   "id": "84fcf1de-928e-41ff-bc2a-948eec415978",
   "metadata": {},
   "source": [
    "Burada root 7'dir. Root'un sağında kendinden büyük, solunda kendinden küçük sayılar bulunur. Sırayla neyin nereye geleceğine bakıyoruz. Root'un soluna kendinden küçük olduğu için 5 gelir. Sonra 1 ile devam ediyoruz. 1, 7den küçük olduğundan sola gelir, bu sefer 5'i kontrol ediyoruz. 5'ten de küçük olduğundan 1'i 5'in soluna yerleştiriyoruz. Sırada 8 var. 7'den büyüktür bu yüzden  sağ tarafa alıp yerleştiriyoruz. 3 ile devam ettiğimizde 7'den küçük olduğunu biliyoruz bu yüzden sol taraftan devam ediyoruz. 5'ten de küçük olduğundan yine soldan devam ederek 1'e geliyoruz. Burada 1'den büyük olduğu için sağ tarafına yerleştiriyoruz. 6 ile devam ettiğimizde 7'den küçük olduğundan sol taraftan devam ediyoruz ve 5'e geliyoruz. Burada da 5'ten büyük olduğundan sağ tarafına yerleştiriyoruz. Sıra 0'a geliyor. 0 7,5,1'den küçük olduğundan en sonda 1 olduğu için 1'in sol tarafına yerleştiriyoruz. 9'a gelince 7'den büyük olduğu için sağ taraftan devam edip 8'e geliyoruz. Bundan da büyük olduğundan 8'in sağına yerleştiriyoruz. 4 için 7ve beşten küçük olduğu için sol taraftan ilerleyip 1'e geliyoruz. 1'den büyük olduğundan sağ tarafına gelip 3'e bakıyoruz, 3'ten de büyük olduğu için sağ tarafa yerleştiriyoruz. Son olarak 2 rakamı 7 ve 5ten küçük olduğundan soldan ilerleyip 1'e bakıyoruz. 1'den büyük olduğundan sağtarafa alıp 3e de bakıyoruz. 3'ten küçük olduğu için sol tarafa yerleştiriyoruz ve bitiriyoruz."
   ]
  }
 ],
 "metadata": {
  "kernelspec": {
   "display_name": "Python 3 (ipykernel)",
   "language": "python",
   "name": "python3"
  },
  "language_info": {
   "codemirror_mode": {
    "name": "ipython",
    "version": 3
   },
   "file_extension": ".py",
   "mimetype": "text/x-python",
   "name": "python",
   "nbconvert_exporter": "python",
   "pygments_lexer": "ipython3",
   "version": "3.10.4"
  }
 },
 "nbformat": 4,
 "nbformat_minor": 5
}
